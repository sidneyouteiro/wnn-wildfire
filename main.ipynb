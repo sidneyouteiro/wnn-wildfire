{
 "cells": [
  {
   "cell_type": "code",
   "execution_count": 1,
   "metadata": {},
   "outputs": [],
   "source": [
    "import os\n",
    "import pandas as pd"
   ]
  },
  {
   "cell_type": "code",
   "execution_count": 2,
   "metadata": {},
   "outputs": [
    {
     "data": {
      "text/plain": [
       "['./data/sensor_data_19.csv',\n",
       " './data/sensor_data_12.csv',\n",
       " './data/sensor_data_10.csv',\n",
       " './data/sensor_data_5.csv',\n",
       " './data/sensor_data_11.csv',\n",
       " './data/sensor_data_4.csv',\n",
       " './data/sensor_data_9.csv',\n",
       " './data/sensor_data_7.csv',\n",
       " './data/sensor_data_6.csv',\n",
       " './data/sensor_data_14.csv',\n",
       " './data/sensor_data_13.csv',\n",
       " './data/sensor_data_17.csv',\n",
       " './data/sensor_data_3.csv',\n",
       " './data/sensor_data_1.csv',\n",
       " './data/sensor_data_8.csv',\n",
       " './data/sensor_data_16.csv',\n",
       " './data/sensor_data_2.csv',\n",
       " './data/sensor_data_15.csv',\n",
       " './data/sensor_data_18.csv',\n",
       " './data/sensor_data_no_fire.csv']"
      ]
     },
     "execution_count": 2,
     "metadata": {},
     "output_type": "execute_result"
    }
   ],
   "source": [
    "def list_files_in_directory(directory_path):\n",
    "    files_path = []\n",
    "    try:\n",
    "        with os.scandir(directory_path) as entries:\n",
    "            for entry in entries:\n",
    "                if entry.is_file():\n",
    "                    files_path.append(entry.path)\n",
    "        return files_path\n",
    "    except FileNotFoundError:\n",
    "        print(f\"The directory '{directory_path}' does not exist\")\n",
    "    except PermissionError:\n",
    "        print(f\"Permission denied to access the directory '{directory_path}'\")\n",
    "    except Exception as e:\n",
    "        print(f\"An error occurred: {e}\")\n",
    "\n",
    "list_files_in_directory('./data')"
   ]
  },
  {
   "cell_type": "code",
   "execution_count": 31,
   "metadata": {},
   "outputs": [],
   "source": [
    "df = pd.read_csv('./data/sensor_data_1.csv', index_col=0)\n",
    "df['burned'] = df['temperature'] > 55\n",
    "df['humidity_warning'] = df['humidity'] < 30\n",
    "df['temperature_warning'] = df['temperature'] > 30"
   ]
  },
  {
   "cell_type": "code",
   "execution_count": 27,
   "metadata": {},
   "outputs": [],
   "source": [
    "steps_id = df.step.unique()\n",
    "devices_id = df.id.unique()"
   ]
  },
  {
   "cell_type": "markdown",
   "metadata": {},
   "source": [
    "# warning started"
   ]
  },
  {
   "cell_type": "code",
   "execution_count": 32,
   "metadata": {},
   "outputs": [],
   "source": [
    "for device in devices_id:\n",
    "    has_humidity_warning = df.loc[df['id']==device]['humidity_warning'].any()\n",
    "    if not has_humidity_warning:\n",
    "        continue\n",
    "    still_no_warning = False\n",
    "    for step in steps_id:\n",
    "        if still_no_warning:\n",
    "            df.loc[(df['id']==device)&(df['step']==step), 'humidity_warning'] = still_no_warning\n",
    "        still_no_warning = df.loc[(df['id']==device)&(df['step']==step), 'humidity_warning'].values[0]\n",
    "\n",
    "for device in devices_id:\n",
    "    has_temperature_warning = df.loc[df['id']==device]['temperature_warning'].any()\n",
    "    if not has_temperature_warning:\n",
    "        continue\n",
    "    still_no_warning = False\n",
    "    for step in steps_id:\n",
    "        if still_no_warning:\n",
    "            df.loc[(df['id']==device)&(df['step']==step), 'temperature_warning'] = still_no_warning\n",
    "        still_no_warning = df.loc[(df['id']==device)&(df['step']==step), 'temperature_warning'].values[0]"
   ]
  },
  {
   "cell_type": "markdown",
   "metadata": {},
   "source": [
    "# burn count through time"
   ]
  },
  {
   "cell_type": "code",
   "execution_count": 38,
   "metadata": {},
   "outputs": [],
   "source": [
    "for device in devices_id:\n",
    "    has_burned = df.loc[df['id']==device]['burned'].any()\n",
    "    if not has_burned:\n",
    "        continue\n",
    "    still_burned = False\n",
    "    for step in steps_id:\n",
    "        if still_burned:\n",
    "            df.loc[(df['id']==device)&(df['step']==step), 'burned'] = still_burned\n",
    "        still_burned = df.loc[(df['id']==device)&(df['step']==step), 'burned'].values[0]"
   ]
  },
  {
   "cell_type": "code",
   "execution_count": 39,
   "metadata": {},
   "outputs": [],
   "source": [
    "burn_values = df.groupby(by='step')['burned'].sum().values\n",
    "humidity_warning_values = df.groupby(by='step')['humidity_warning'].sum().values\n",
    "temperature_warning_values = df.groupby(by='step')['temperature_warning'].sum().values"
   ]
  },
  {
   "cell_type": "code",
   "execution_count": 51,
   "metadata": {},
   "outputs": [
    {
     "data": {
      "image/png": "[encoded data removed]",
      "text/plain": [
       "<Figure size 640x480 with 1 Axes>"
      ]
     },
     "metadata": {},
     "output_type": "display_data"
    }
   ],
   "source": [
    "import seaborn as sns\n",
    "import matplotlib.pyplot as plt\n",
    "\n",
    "ax = sns.lineplot(x=steps_id,y=burn_values)\n",
    "ax1 = sns.lineplot(x=steps_id,y=humidity_warning_values, ax=ax)\n",
    "ax2 = sns.lineplot(x=steps_id,y=temperature_warning_values, ax=ax1)\n",
    "plt.show()"
   ]
  }
 ],
 "metadata": {
  "kernelspec": {
   "display_name": "Python 3",
   "language": "python",
   "name": "python3"
  },
  "language_info": {
   "codemirror_mode": {
    "name": "ipython",
    "version": 3
   },
   "file_extension": ".py",
   "mimetype": "text/x-python",
   "name": "python",
   "nbconvert_exporter": "python",
   "pygments_lexer": "ipython3",
   "version": "3.11.2"
  }
 },
 "nbformat": 4,
 "nbformat_minor": 2
}
